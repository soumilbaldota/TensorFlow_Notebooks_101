{
  "nbformat": 4,
  "nbformat_minor": 0,
  "metadata": {
    "colab": {
      "name": "HiddenMarkowModel_Basic TensorFlow.ipynb",
      "provenance": [],
      "collapsed_sections": [],
      "authorship_tag": "ABX9TyMFPgNzQ1zHw4pyjcVWRuAk",
      "include_colab_link": true
    },
    "kernelspec": {
      "name": "python3",
      "display_name": "Python 3"
    }
  },
  "cells": [
    {
      "cell_type": "markdown",
      "metadata": {
        "id": "view-in-github",
        "colab_type": "text"
      },
      "source": [
        "<a href=\"https://colab.research.google.com/github/soumilbaldota/TensorFlow_Notebooks_101/blob/main/HiddenMarkowModel_Basic_TensorFlow.ipynb\" target=\"_parent\"><img src=\"https://colab.research.google.com/assets/colab-badge.svg\" alt=\"Open In Colab\"/></a>"
      ]
    },
    {
      "cell_type": "code",
      "metadata": {
        "id": "jh0b6U6cC43-"
      },
      "source": [
        "%tensorflow_version 2.x\n"
      ],
      "execution_count": 1,
      "outputs": []
    },
    {
      "cell_type": "code",
      "metadata": {
        "id": "peHrZiqiITTA"
      },
      "source": [
        "import tensorflow_probability as tfp\n",
        "import tensorflow as tf\n",
        "import numpy as np"
      ],
      "execution_count": 2,
      "outputs": []
    },
    {
      "cell_type": "code",
      "metadata": {
        "id": "hCvmcKU4Jg2G"
      },
      "source": [
        "tfd=tfp.distributions\n",
        "initial_distribution=tfd.Categorical(probs=[0.8,0.2])\n",
        "transition_distribution=tfd.Categorical(probs=[[0.7,0.3],[0.2,0.8]])\n",
        "observation_distribution=tfd.Normal(loc=[0.,15.],scale=[5.,10.])"
      ],
      "execution_count": 18,
      "outputs": []
    },
    {
      "cell_type": "code",
      "metadata": {
        "id": "KWDh4uaMKPzw"
      },
      "source": [
        "model=tfd.HiddenMarkovModel(initial_distribution=initial_distribution,\n",
        "                            transition_distribution=transition_distribution,\n",
        "                            observation_distribution=observation_distribution,\n",
        "                            num_steps=7)"
      ],
      "execution_count": 19,
      "outputs": []
    },
    {
      "cell_type": "code",
      "metadata": {
        "id": "tQUHuiKrMpJo",
        "outputId": "0268ff73-efd3-438d-cdcc-d020df20c5e7",
        "colab": {
          "base_uri": "https://localhost:8080/",
          "height": 34
        }
      },
      "source": [
        "mean=model.mean()\n",
        "\n",
        "with tf.compat.v1.Session() as sess:\n",
        "  print(mean.numpy())"
      ],
      "execution_count": 20,
      "outputs": [
        {
          "output_type": "stream",
          "text": [
            "[2.9999998 5.9999995 7.4999995 8.25      8.625001  8.812501  8.90625  ]\n"
          ],
          "name": "stdout"
        }
      ]
    }
  ]
}