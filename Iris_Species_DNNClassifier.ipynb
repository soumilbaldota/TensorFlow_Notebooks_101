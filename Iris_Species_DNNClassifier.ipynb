{
  "nbformat": 4,
  "nbformat_minor": 0,
  "metadata": {
    "colab": {
      "name": "Iris_Species_DNNClassifier.ipynb",
      "provenance": [],
      "authorship_tag": "ABX9TyOd9mnQ0gNdwUYOFBmuj6Uz",
      "include_colab_link": true
    },
    "kernelspec": {
      "name": "python3",
      "display_name": "Python 3"
    }
  },
  "cells": [
    {
      "cell_type": "markdown",
      "metadata": {
        "id": "view-in-github",
        "colab_type": "text"
      },
      "source": [
        "<a href=\"https://colab.research.google.com/github/soumilbaldota/TensorFlow_Notebooks_101/blob/main/Iris_Species_DNNClassifier.ipynb\" target=\"_parent\"><img src=\"https://colab.research.google.com/assets/colab-badge.svg\" alt=\"Open In Colab\"/></a>"
      ]
    },
    {
      "cell_type": "code",
      "metadata": {
        "id": "cHSCUB73YI_i"
      },
      "source": [
        "%tensorflow_version 2.x"
      ],
      "execution_count": 26,
      "outputs": []
    },
    {
      "cell_type": "code",
      "metadata": {
        "id": "n3XkgA1YYZ_p"
      },
      "source": [
        "from __future__ import absolute_import , division, print_function,unicode_literals\n",
        "import tensorflow as tf\n",
        "import pandas as pd"
      ],
      "execution_count": 27,
      "outputs": []
    },
    {
      "cell_type": "code",
      "metadata": {
        "id": "HX-f9Esva1CB"
      },
      "source": [
        "CSV_COLUMN_NAMES=['SepalLength','SepalWidth','PetalLength','PetalWidth','Species']\n",
        "SPECIES=['Setosa','Versicolor','Virginica']"
      ],
      "execution_count": 28,
      "outputs": []
    },
    {
      "cell_type": "code",
      "metadata": {
        "id": "ZMM0MKnAYsPH"
      },
      "source": [
        "train_path=tf.keras.utils.get_file(\n",
        "    \"iris_training.csv\",\"https://storage.googleapis.com/download.tensorflow.org/data/iris_training.csv\")\n",
        "\n",
        "test_path=tf.keras.utils.get_file(\n",
        "    \"iris_test.csv\",\"https://storage.googleapis.com/download.tensorflow.org/data/iris_test.csv\")\n",
        "train=pd.read_csv(train_path , names=CSV_COLUMN_NAMES,header=0)\n",
        "test=pd.read_csv(test_path , names=CSV_COLUMN_NAMES,header=0)"
      ],
      "execution_count": 29,
      "outputs": []
    },
    {
      "cell_type": "code",
      "metadata": {
        "id": "djEGntArbc3M",
        "outputId": "e01f4686-6444-4146-b06d-54eeac2c3a06",
        "colab": {
          "base_uri": "https://localhost:8080/",
          "height": 195
        }
      },
      "source": [
        "train.head()"
      ],
      "execution_count": 30,
      "outputs": [
        {
          "output_type": "execute_result",
          "data": {
            "text/html": [
              "<div>\n",
              "<style scoped>\n",
              "    .dataframe tbody tr th:only-of-type {\n",
              "        vertical-align: middle;\n",
              "    }\n",
              "\n",
              "    .dataframe tbody tr th {\n",
              "        vertical-align: top;\n",
              "    }\n",
              "\n",
              "    .dataframe thead th {\n",
              "        text-align: right;\n",
              "    }\n",
              "</style>\n",
              "<table border=\"1\" class=\"dataframe\">\n",
              "  <thead>\n",
              "    <tr style=\"text-align: right;\">\n",
              "      <th></th>\n",
              "      <th>SepalLength</th>\n",
              "      <th>SepalWidth</th>\n",
              "      <th>PetalLength</th>\n",
              "      <th>PetalWidth</th>\n",
              "      <th>Species</th>\n",
              "    </tr>\n",
              "  </thead>\n",
              "  <tbody>\n",
              "    <tr>\n",
              "      <th>0</th>\n",
              "      <td>6.4</td>\n",
              "      <td>2.8</td>\n",
              "      <td>5.6</td>\n",
              "      <td>2.2</td>\n",
              "      <td>2</td>\n",
              "    </tr>\n",
              "    <tr>\n",
              "      <th>1</th>\n",
              "      <td>5.0</td>\n",
              "      <td>2.3</td>\n",
              "      <td>3.3</td>\n",
              "      <td>1.0</td>\n",
              "      <td>1</td>\n",
              "    </tr>\n",
              "    <tr>\n",
              "      <th>2</th>\n",
              "      <td>4.9</td>\n",
              "      <td>2.5</td>\n",
              "      <td>4.5</td>\n",
              "      <td>1.7</td>\n",
              "      <td>2</td>\n",
              "    </tr>\n",
              "    <tr>\n",
              "      <th>3</th>\n",
              "      <td>4.9</td>\n",
              "      <td>3.1</td>\n",
              "      <td>1.5</td>\n",
              "      <td>0.1</td>\n",
              "      <td>0</td>\n",
              "    </tr>\n",
              "    <tr>\n",
              "      <th>4</th>\n",
              "      <td>5.7</td>\n",
              "      <td>3.8</td>\n",
              "      <td>1.7</td>\n",
              "      <td>0.3</td>\n",
              "      <td>0</td>\n",
              "    </tr>\n",
              "  </tbody>\n",
              "</table>\n",
              "</div>"
            ],
            "text/plain": [
              "   SepalLength  SepalWidth  PetalLength  PetalWidth  Species\n",
              "0          6.4         2.8          5.6         2.2        2\n",
              "1          5.0         2.3          3.3         1.0        1\n",
              "2          4.9         2.5          4.5         1.7        2\n",
              "3          4.9         3.1          1.5         0.1        0\n",
              "4          5.7         3.8          1.7         0.3        0"
            ]
          },
          "metadata": {
            "tags": []
          },
          "execution_count": 30
        }
      ]
    },
    {
      "cell_type": "code",
      "metadata": {
        "id": "DRQqCaWcbfbV",
        "outputId": "862aabc1-48ec-43c6-f422-208d1f2c750f",
        "colab": {
          "base_uri": "https://localhost:8080/",
          "height": 195
        }
      },
      "source": [
        "train_y=train.pop(\"Species\")\n",
        "test_y=test.pop(\"Species\")\n",
        "train.head()"
      ],
      "execution_count": 31,
      "outputs": [
        {
          "output_type": "execute_result",
          "data": {
            "text/html": [
              "<div>\n",
              "<style scoped>\n",
              "    .dataframe tbody tr th:only-of-type {\n",
              "        vertical-align: middle;\n",
              "    }\n",
              "\n",
              "    .dataframe tbody tr th {\n",
              "        vertical-align: top;\n",
              "    }\n",
              "\n",
              "    .dataframe thead th {\n",
              "        text-align: right;\n",
              "    }\n",
              "</style>\n",
              "<table border=\"1\" class=\"dataframe\">\n",
              "  <thead>\n",
              "    <tr style=\"text-align: right;\">\n",
              "      <th></th>\n",
              "      <th>SepalLength</th>\n",
              "      <th>SepalWidth</th>\n",
              "      <th>PetalLength</th>\n",
              "      <th>PetalWidth</th>\n",
              "    </tr>\n",
              "  </thead>\n",
              "  <tbody>\n",
              "    <tr>\n",
              "      <th>0</th>\n",
              "      <td>6.4</td>\n",
              "      <td>2.8</td>\n",
              "      <td>5.6</td>\n",
              "      <td>2.2</td>\n",
              "    </tr>\n",
              "    <tr>\n",
              "      <th>1</th>\n",
              "      <td>5.0</td>\n",
              "      <td>2.3</td>\n",
              "      <td>3.3</td>\n",
              "      <td>1.0</td>\n",
              "    </tr>\n",
              "    <tr>\n",
              "      <th>2</th>\n",
              "      <td>4.9</td>\n",
              "      <td>2.5</td>\n",
              "      <td>4.5</td>\n",
              "      <td>1.7</td>\n",
              "    </tr>\n",
              "    <tr>\n",
              "      <th>3</th>\n",
              "      <td>4.9</td>\n",
              "      <td>3.1</td>\n",
              "      <td>1.5</td>\n",
              "      <td>0.1</td>\n",
              "    </tr>\n",
              "    <tr>\n",
              "      <th>4</th>\n",
              "      <td>5.7</td>\n",
              "      <td>3.8</td>\n",
              "      <td>1.7</td>\n",
              "      <td>0.3</td>\n",
              "    </tr>\n",
              "  </tbody>\n",
              "</table>\n",
              "</div>"
            ],
            "text/plain": [
              "   SepalLength  SepalWidth  PetalLength  PetalWidth\n",
              "0          6.4         2.8          5.6         2.2\n",
              "1          5.0         2.3          3.3         1.0\n",
              "2          4.9         2.5          4.5         1.7\n",
              "3          4.9         3.1          1.5         0.1\n",
              "4          5.7         3.8          1.7         0.3"
            ]
          },
          "metadata": {
            "tags": []
          },
          "execution_count": 31
        }
      ]
    },
    {
      "cell_type": "code",
      "metadata": {
        "id": "ViE2U61YbyFh",
        "outputId": "6d7d12e8-cb9f-4f6a-c151-f7785df55369",
        "colab": {
          "base_uri": "https://localhost:8080/",
          "height": 34
        }
      },
      "source": [
        "train.shape\n"
      ],
      "execution_count": 32,
      "outputs": [
        {
          "output_type": "execute_result",
          "data": {
            "text/plain": [
              "(120, 4)"
            ]
          },
          "metadata": {
            "tags": []
          },
          "execution_count": 32
        }
      ]
    },
    {
      "cell_type": "code",
      "metadata": {
        "id": "x4rlwoIqb6-o"
      },
      "source": [
        "def input_fn(features,labels,training=True,batch_size=256):\n",
        "  ds=tf.data.Dataset.from_tensor_slices((dict(features),labels))\n",
        "  if training:\n",
        "    ds=ds.shuffle(1000).repeat()\n",
        "  return ds.batch(batch_size)"
      ],
      "execution_count": 39,
      "outputs": []
    },
    {
      "cell_type": "code",
      "metadata": {
        "id": "PIxw_Q0mdVxF"
      },
      "source": [
        "feature_columns=[]\n",
        "for key in train.keys():\n",
        "  feature_columns.append(tf.feature_column.numeric_column(key=key))"
      ],
      "execution_count": 40,
      "outputs": []
    },
    {
      "cell_type": "code",
      "metadata": {
        "id": "IfjC0FODfUnh",
        "outputId": "d3d69978-ba61-4953-cff1-291cfafaf889",
        "colab": {
          "base_uri": "https://localhost:8080/",
          "height": 1000
        }
      },
      "source": [
        "classifier=tf.estimator.DNNClassifier(feature_columns=feature_columns,hidden_units=[30,10],n_classes=3)\n",
        "classifier.train(input_fn=lambda :input_fn(train,train_y,training=True),steps=5000)"
      ],
      "execution_count": 42,
      "outputs": [
        {
          "output_type": "stream",
          "text": [
            "INFO:tensorflow:Using default config.\n",
            "WARNING:tensorflow:Using temporary folder as model directory: /tmp/tmp8z9kdyjo\n",
            "INFO:tensorflow:Using config: {'_model_dir': '/tmp/tmp8z9kdyjo', '_tf_random_seed': None, '_save_summary_steps': 100, '_save_checkpoints_steps': None, '_save_checkpoints_secs': 600, '_session_config': allow_soft_placement: true\n",
            "graph_options {\n",
            "  rewrite_options {\n",
            "    meta_optimizer_iterations: ONE\n",
            "  }\n",
            "}\n",
            ", '_keep_checkpoint_max': 5, '_keep_checkpoint_every_n_hours': 10000, '_log_step_count_steps': 100, '_train_distribute': None, '_device_fn': None, '_protocol': None, '_eval_distribute': None, '_experimental_distribute': None, '_experimental_max_worker_delay_secs': None, '_session_creation_timeout_secs': 7200, '_service': None, '_cluster_spec': ClusterSpec({}), '_task_type': 'worker', '_task_id': 0, '_global_id_in_cluster': 0, '_master': '', '_evaluation_master': '', '_is_chief': True, '_num_ps_replicas': 0, '_num_worker_replicas': 1}\n",
            "INFO:tensorflow:Calling model_fn.\n",
            "WARNING:tensorflow:Layer dnn is casting an input tensor from dtype float64 to the layer's dtype of float32, which is new behavior in TensorFlow 2.  The layer has dtype float32 because its dtype defaults to floatx.\n",
            "\n",
            "If you intended to run this layer in float32, you can safely ignore this warning. If in doubt, this warning is likely only an issue if you are porting a TensorFlow 1.X model to TensorFlow 2.\n",
            "\n",
            "To change all layers to have dtype float64 by default, call `tf.keras.backend.set_floatx('float64')`. To change just this layer, pass dtype='float64' to the layer constructor. If you are the author of this layer, you can disable autocasting by passing autocast=False to the base Layer constructor.\n",
            "\n",
            "INFO:tensorflow:Done calling model_fn.\n",
            "INFO:tensorflow:Create CheckpointSaverHook.\n",
            "INFO:tensorflow:Graph was finalized.\n",
            "INFO:tensorflow:Running local_init_op.\n",
            "INFO:tensorflow:Done running local_init_op.\n",
            "INFO:tensorflow:Calling checkpoint listeners before saving checkpoint 0...\n",
            "INFO:tensorflow:Saving checkpoints for 0 into /tmp/tmp8z9kdyjo/model.ckpt.\n",
            "INFO:tensorflow:Calling checkpoint listeners after saving checkpoint 0...\n",
            "INFO:tensorflow:loss = 1.1251388, step = 0\n",
            "INFO:tensorflow:global_step/sec: 500.513\n",
            "INFO:tensorflow:loss = 0.9664302, step = 100 (0.205 sec)\n",
            "INFO:tensorflow:global_step/sec: 669.775\n",
            "INFO:tensorflow:loss = 0.9039483, step = 200 (0.146 sec)\n",
            "INFO:tensorflow:global_step/sec: 669.222\n",
            "INFO:tensorflow:loss = 0.85946494, step = 300 (0.149 sec)\n",
            "INFO:tensorflow:global_step/sec: 686.485\n",
            "INFO:tensorflow:loss = 0.8224501, step = 400 (0.147 sec)\n",
            "INFO:tensorflow:global_step/sec: 633.264\n",
            "INFO:tensorflow:loss = 0.7894323, step = 500 (0.157 sec)\n",
            "INFO:tensorflow:global_step/sec: 666.132\n",
            "INFO:tensorflow:loss = 0.7550158, step = 600 (0.151 sec)\n",
            "INFO:tensorflow:global_step/sec: 653.982\n",
            "INFO:tensorflow:loss = 0.7300447, step = 700 (0.153 sec)\n",
            "INFO:tensorflow:global_step/sec: 667.826\n",
            "INFO:tensorflow:loss = 0.7139946, step = 800 (0.150 sec)\n",
            "INFO:tensorflow:global_step/sec: 679.246\n",
            "INFO:tensorflow:loss = 0.6946815, step = 900 (0.147 sec)\n",
            "INFO:tensorflow:global_step/sec: 691.169\n",
            "INFO:tensorflow:loss = 0.67924464, step = 1000 (0.145 sec)\n",
            "INFO:tensorflow:global_step/sec: 661.97\n",
            "INFO:tensorflow:loss = 0.65995157, step = 1100 (0.152 sec)\n",
            "INFO:tensorflow:global_step/sec: 596.935\n",
            "INFO:tensorflow:loss = 0.6381008, step = 1200 (0.167 sec)\n",
            "INFO:tensorflow:global_step/sec: 671.727\n",
            "INFO:tensorflow:loss = 0.6184053, step = 1300 (0.147 sec)\n",
            "INFO:tensorflow:global_step/sec: 660.387\n",
            "INFO:tensorflow:loss = 0.6195585, step = 1400 (0.152 sec)\n",
            "INFO:tensorflow:global_step/sec: 640.97\n",
            "INFO:tensorflow:loss = 0.60318756, step = 1500 (0.157 sec)\n",
            "INFO:tensorflow:global_step/sec: 677.943\n",
            "INFO:tensorflow:loss = 0.58756304, step = 1600 (0.147 sec)\n",
            "INFO:tensorflow:global_step/sec: 651.741\n",
            "INFO:tensorflow:loss = 0.5750218, step = 1700 (0.153 sec)\n",
            "INFO:tensorflow:global_step/sec: 610.645\n",
            "INFO:tensorflow:loss = 0.5678003, step = 1800 (0.166 sec)\n",
            "INFO:tensorflow:global_step/sec: 586.622\n",
            "INFO:tensorflow:loss = 0.5626241, step = 1900 (0.168 sec)\n",
            "INFO:tensorflow:global_step/sec: 627.615\n",
            "INFO:tensorflow:loss = 0.5569993, step = 2000 (0.162 sec)\n",
            "INFO:tensorflow:global_step/sec: 587.257\n",
            "INFO:tensorflow:loss = 0.54331493, step = 2100 (0.172 sec)\n",
            "INFO:tensorflow:global_step/sec: 591.107\n",
            "INFO:tensorflow:loss = 0.53818583, step = 2200 (0.165 sec)\n",
            "INFO:tensorflow:global_step/sec: 604.509\n",
            "INFO:tensorflow:loss = 0.5294541, step = 2300 (0.169 sec)\n",
            "INFO:tensorflow:global_step/sec: 602.183\n",
            "INFO:tensorflow:loss = 0.5153161, step = 2400 (0.163 sec)\n",
            "INFO:tensorflow:global_step/sec: 608.888\n",
            "INFO:tensorflow:loss = 0.5166887, step = 2500 (0.166 sec)\n",
            "INFO:tensorflow:global_step/sec: 614.979\n",
            "INFO:tensorflow:loss = 0.49807122, step = 2600 (0.162 sec)\n",
            "INFO:tensorflow:global_step/sec: 606.123\n",
            "INFO:tensorflow:loss = 0.49464798, step = 2700 (0.164 sec)\n",
            "INFO:tensorflow:global_step/sec: 511.677\n",
            "INFO:tensorflow:loss = 0.4953555, step = 2800 (0.196 sec)\n",
            "INFO:tensorflow:global_step/sec: 601.2\n",
            "INFO:tensorflow:loss = 0.48697633, step = 2900 (0.169 sec)\n",
            "INFO:tensorflow:global_step/sec: 624.319\n",
            "INFO:tensorflow:loss = 0.4768694, step = 3000 (0.158 sec)\n",
            "WARNING:tensorflow:It seems that global step (tf.train.get_global_step) has not been increased. Current value (could be stable): 3036 vs previous value: 3036. You could increase the global step by passing tf.train.get_global_step() to Optimizer.apply_gradients or Optimizer.minimize.\n",
            "INFO:tensorflow:global_step/sec: 553.425\n",
            "INFO:tensorflow:loss = 0.47989994, step = 3100 (0.181 sec)\n",
            "INFO:tensorflow:global_step/sec: 599.595\n",
            "INFO:tensorflow:loss = 0.4689442, step = 3200 (0.166 sec)\n",
            "INFO:tensorflow:global_step/sec: 613.574\n",
            "INFO:tensorflow:loss = 0.45985323, step = 3300 (0.167 sec)\n",
            "INFO:tensorflow:global_step/sec: 540.974\n",
            "INFO:tensorflow:loss = 0.4566065, step = 3400 (0.184 sec)\n",
            "INFO:tensorflow:global_step/sec: 616.4\n",
            "INFO:tensorflow:loss = 0.41575855, step = 3500 (0.161 sec)\n",
            "INFO:tensorflow:global_step/sec: 604.774\n",
            "INFO:tensorflow:loss = 0.40099025, step = 3600 (0.164 sec)\n",
            "INFO:tensorflow:global_step/sec: 576.026\n",
            "INFO:tensorflow:loss = 0.3840307, step = 3700 (0.177 sec)\n",
            "INFO:tensorflow:global_step/sec: 591.775\n",
            "INFO:tensorflow:loss = 0.38415504, step = 3800 (0.166 sec)\n",
            "INFO:tensorflow:global_step/sec: 621.091\n",
            "INFO:tensorflow:loss = 0.3895912, step = 3900 (0.162 sec)\n",
            "INFO:tensorflow:global_step/sec: 589.971\n",
            "INFO:tensorflow:loss = 0.38324934, step = 4000 (0.169 sec)\n",
            "INFO:tensorflow:global_step/sec: 574.319\n",
            "INFO:tensorflow:loss = 0.37430233, step = 4100 (0.174 sec)\n",
            "INFO:tensorflow:global_step/sec: 624.056\n",
            "INFO:tensorflow:loss = 0.37427098, step = 4200 (0.161 sec)\n",
            "INFO:tensorflow:global_step/sec: 514.518\n",
            "INFO:tensorflow:loss = 0.36223173, step = 4300 (0.196 sec)\n",
            "INFO:tensorflow:global_step/sec: 610.89\n",
            "INFO:tensorflow:loss = 0.35719195, step = 4400 (0.164 sec)\n",
            "INFO:tensorflow:global_step/sec: 562.54\n",
            "INFO:tensorflow:loss = 0.35852033, step = 4500 (0.175 sec)\n",
            "INFO:tensorflow:global_step/sec: 606.632\n",
            "INFO:tensorflow:loss = 0.344444, step = 4600 (0.165 sec)\n",
            "INFO:tensorflow:global_step/sec: 631.863\n",
            "INFO:tensorflow:loss = 0.34783, step = 4700 (0.159 sec)\n",
            "INFO:tensorflow:global_step/sec: 629.519\n",
            "INFO:tensorflow:loss = 0.34050876, step = 4800 (0.159 sec)\n",
            "INFO:tensorflow:global_step/sec: 571.557\n",
            "INFO:tensorflow:loss = 0.34678063, step = 4900 (0.175 sec)\n",
            "INFO:tensorflow:Calling checkpoint listeners before saving checkpoint 5000...\n",
            "INFO:tensorflow:Saving checkpoints for 5000 into /tmp/tmp8z9kdyjo/model.ckpt.\n",
            "INFO:tensorflow:Calling checkpoint listeners after saving checkpoint 5000...\n",
            "INFO:tensorflow:Loss for final step: 0.3189217.\n"
          ],
          "name": "stdout"
        },
        {
          "output_type": "execute_result",
          "data": {
            "text/plain": [
              "<tensorflow_estimator.python.estimator.canned.dnn.DNNClassifierV2 at 0x7f894d115320>"
            ]
          },
          "metadata": {
            "tags": []
          },
          "execution_count": 42
        }
      ]
    },
    {
      "cell_type": "code",
      "metadata": {
        "id": "um7xGroFiD_0",
        "outputId": "b7614dff-0ce8-4c0b-b90f-7db4afbd0aaa",
        "colab": {
          "base_uri": "https://localhost:8080/",
          "height": 356
        }
      },
      "source": [
        "eval_result=classifier.evaluate(input_fn=lambda : input_fn(test,test_y,training=False))\n",
        "print('\\n Test set accuracy :{accuracy:0.3f}'.format(**eval_result))"
      ],
      "execution_count": 44,
      "outputs": [
        {
          "output_type": "stream",
          "text": [
            "INFO:tensorflow:Calling model_fn.\n",
            "WARNING:tensorflow:Layer dnn is casting an input tensor from dtype float64 to the layer's dtype of float32, which is new behavior in TensorFlow 2.  The layer has dtype float32 because its dtype defaults to floatx.\n",
            "\n",
            "If you intended to run this layer in float32, you can safely ignore this warning. If in doubt, this warning is likely only an issue if you are porting a TensorFlow 1.X model to TensorFlow 2.\n",
            "\n",
            "To change all layers to have dtype float64 by default, call `tf.keras.backend.set_floatx('float64')`. To change just this layer, pass dtype='float64' to the layer constructor. If you are the author of this layer, you can disable autocasting by passing autocast=False to the base Layer constructor.\n",
            "\n",
            "INFO:tensorflow:Done calling model_fn.\n",
            "INFO:tensorflow:Starting evaluation at 2020-10-06T06:16:50Z\n",
            "INFO:tensorflow:Graph was finalized.\n",
            "INFO:tensorflow:Restoring parameters from /tmp/tmp8z9kdyjo/model.ckpt-5000\n",
            "INFO:tensorflow:Running local_init_op.\n",
            "INFO:tensorflow:Done running local_init_op.\n",
            "INFO:tensorflow:Inference Time : 0.19600s\n",
            "INFO:tensorflow:Finished evaluation at 2020-10-06-06:16:50\n",
            "INFO:tensorflow:Saving dict for global step 5000: accuracy = 0.96666664, average_loss = 0.37759015, global_step = 5000, loss = 0.37759015\n",
            "INFO:tensorflow:Saving 'checkpoint_path' summary for global step 5000: /tmp/tmp8z9kdyjo/model.ckpt-5000\n",
            "\n",
            " Test set accuracy :0.967\n"
          ],
          "name": "stdout"
        }
      ]
    },
    {
      "cell_type": "code",
      "metadata": {
        "id": "o3RWRiSflgeV",
        "outputId": "dfc7e220-3d90-4f87-c4d3-d22a2fc7ed78",
        "colab": {
          "base_uri": "https://localhost:8080/",
          "height": 255
        }
      },
      "source": [
        "def input_fn(features,batch_size=256):\n",
        "  return tf.data.Dataset.from_tensor_slices(dict(features)).batch(batch_size)\n",
        "features=['SepalLength','SepalWidth','PetalLength','PetalWidth']\n",
        "predict={}\n",
        "for feature in features:\n",
        "  valid=True\n",
        "  if valid:\n",
        "    val =input(feature+\" : \")\n",
        "    if not val.isdigit(): valid=False\n",
        "  predict[feature]=[float(val)]\n",
        "predictions=classifier.predict(input_fn=lambda : input_fn(predict))\n",
        "for pred_dict in predictions:\n",
        "  print(pred_dict)\n",
        "  class_id =pred_dict['class_ids'][0]\n",
        "  print(pred_dict)\n",
        "  probability = pred_dict['probabilities'][class_id]\n",
        "  print('prediction is \"{}\"{:.1f}%'.format(SPECIES[class_id],100*probability))"
      ],
      "execution_count": 51,
      "outputs": [
        {
          "output_type": "stream",
          "text": [
            "SepalLength : 1.5\n",
            "SepalWidth : 2.5\n",
            "PetalLength : 3\n",
            "PetalWidth : 1.7\n",
            "INFO:tensorflow:Calling model_fn.\n",
            "INFO:tensorflow:Done calling model_fn.\n",
            "INFO:tensorflow:Graph was finalized.\n",
            "INFO:tensorflow:Restoring parameters from /tmp/tmp8z9kdyjo/model.ckpt-5000\n",
            "INFO:tensorflow:Running local_init_op.\n",
            "INFO:tensorflow:Done running local_init_op.\n",
            "{'logits': array([-1.5190912 , -0.37526923,  0.16747135], dtype=float32), 'probabilities': array([0.10482592, 0.32902148, 0.5661526 ], dtype=float32), 'class_ids': array([2]), 'classes': array([b'2'], dtype=object), 'all_class_ids': array([0, 1, 2], dtype=int32), 'all_classes': array([b'0', b'1', b'2'], dtype=object)}\n",
            "{'logits': array([-1.5190912 , -0.37526923,  0.16747135], dtype=float32), 'probabilities': array([0.10482592, 0.32902148, 0.5661526 ], dtype=float32), 'class_ids': array([2]), 'classes': array([b'2'], dtype=object), 'all_class_ids': array([0, 1, 2], dtype=int32), 'all_classes': array([b'0', b'1', b'2'], dtype=object)}\n",
            "prediction is \"Virginica\"56.6%\n"
          ],
          "name": "stdout"
        }
      ]
    }
  ]
}